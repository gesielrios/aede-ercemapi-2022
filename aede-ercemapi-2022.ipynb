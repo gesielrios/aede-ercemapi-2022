{
 "cells": [
  {
   "cell_type": "markdown",
   "id": "1c3628e4",
   "metadata": {},
   "source": [
    "<center>\n",
    "<img src=\"./github/banner.jpeg\" width=\"600px\"/>\n",
    "\n",
    "---\n",
    "# Análise Exploratória de Dados Espaciais com Python\n",
    "## X Escola Regional de Computação Ceará, Maranhão e Piauí  - ERCEMAPI 2022\n",
    "\n",
    "</center>\n",
    "\n",
    "---\n",
    "\n",
    "__Conteúdo:__\n",
    "\n",
    "- Dados Espaciais\n",
    "- Matrizes de Ponderação Espacial\n",
    "- Mapas coropléticos\n",
    "- Autocorrelação Espacial Global\n",
    "- Autocorrelação Espacial Local"
   ]
  },
  {
   "cell_type": "markdown",
   "id": "1c1a567e",
   "metadata": {},
   "source": [
    "## **Ferramentas e bibliotecas**\n",
    "<br>\n",
    "<br>\n",
    "<center>\n",
    "    <figure>\n",
    "        <img src=\"./github/tools.png\" width=80%/>\n",
    "        <figcaption>Figura 1 - Ferramentas a serem utilizadas.</figcaption>\n",
    "    </figure>\n",
    "</center>\n",
    "\n",
    "* [Google Colab ](https://colab.research.google.com/): serviço de nuvem gratuito hospedado pelo Google para incentivar a pesquisa de Aprendizado de Máquina e Inteligência Artificial;\n",
    "\n"
   ]
  },
  {
   "cell_type": "markdown",
   "id": "988f125d",
   "metadata": {},
   "source": [
    "\n",
    "### Referências de apoio:\n",
    "\n",
    "* [pandas](https://pandas.pydata.org/docs/getting_started/index.html#getting-started) é uma biblioteca para análise de dados em Python, de código aberto, licenciada por BSD, utiliza o conceito de dataframes que funcionam como uma matriz de dados, formada por linhas e colunas.\n",
    "\n",
    "* Documentação da biblioteca [matplotlib](https://matplotlib.org/).\n",
    "\n",
    "* Ciência de Dados com Reprodutibilidade usando Jupyter, disponível: https://doi.org/10.5753/sbc.6757.3.1\n",
    "\n",
    "* Introdução a análise de dados com python e pandas, disponívei em: http://www.enucomp.com.br/2017/enucomp_anaisX_2017.pdf\n",
    "\n",
    "* Introdução à Análise Exploratória de Dados com Python, disponível em https://ercas2019.enucompi.com.br/doc/livro_de_minicursos_ercas_pi_2019.pdf\n",
    "\n",
    "* Introdução à Análise de Dados Geoespaciais com Python, disponível em https://sol.sbc.org.br/livros/index.php/sbc/catalog/download/76/325/581-1?inline=1\n"
   ]
  },
  {
   "cell_type": "markdown",
   "id": "f382c130",
   "metadata": {},
   "source": [
    "## PySAL"
   ]
  },
  {
   "cell_type": "markdown",
   "id": "042c7b13",
   "metadata": {},
   "source": [
    "Biblioteca multiplataforma de código aberto para ciência de dados geoespaciais com ênfase em dados vetoriais escrita em Python.\n",
    "\n",
    "$\\textit{Pysal}$ suporta o desenvolvimento de aplicações de alto nível para análise espacial, como:\n",
    "\n",
    "\n",
    "- detecção de $\\textit{clusters}$ espaciais, $\\textit{hot-spots}$ e $\\textit{outliers}$;\n",
    "- construção de gráficos a partir de dados espaciai;\n",
    "- análise exploratória de dados espaço-temporais, dentre outras funcionalidades.\n",
    "\n",
    "Na Figura a seguir é apresentada uma visão geral dos principais componentes do $\\textit{PySAL}$. Ela está organizado em seis categorias principais de funcionalidade que lidam com operações básicas de dados, como a construção e manipulação de pesos espaciais e funções essenciais de geometria computacional, exploração de dados como métodos de agrupamento e análise exploratória de dados espaciais, e modelagem espacial, como dinâmica espacial e econometria espacial.\n",
    "\n",
    "\n",
    "<br>\n",
    "<br>\n",
    "<center>\n",
    "    <figure>\n",
    "        <img src=\"./github/pysal.jpg\" width=40%/>\n",
    "        <figcaption>Figura 2 - Componentes do $PySal$.</figcaption>\n",
    "    </figure>\n",
    "</center>"
   ]
  },
  {
   "cell_type": "markdown",
   "id": "478391cb",
   "metadata": {},
   "source": [
    "## Bibliotecas necessárias"
   ]
  },
  {
   "cell_type": "code",
   "execution_count": null,
   "id": "da32409a",
   "metadata": {},
   "outputs": [],
   "source": [
    "import warnings\n",
    "warnings.filterwarnings('ignore')"
   ]
  },
  {
   "cell_type": "markdown",
   "id": "2bf364a8",
   "metadata": {},
   "source": [
    "## Dados Espaciais"
   ]
  },
  {
   "cell_type": "code",
   "execution_count": null,
   "id": "4226c5c2",
   "metadata": {},
   "outputs": [],
   "source": []
  },
  {
   "cell_type": "markdown",
   "id": "1416e2ac",
   "metadata": {},
   "source": [
    "## Matrizes de Ponderação Espacial"
   ]
  },
  {
   "cell_type": "code",
   "execution_count": null,
   "id": "7373da40",
   "metadata": {},
   "outputs": [],
   "source": []
  },
  {
   "cell_type": "markdown",
   "id": "76ff646a",
   "metadata": {},
   "source": [
    "### ROOK"
   ]
  },
  {
   "cell_type": "code",
   "execution_count": null,
   "id": "afc5ee53",
   "metadata": {},
   "outputs": [],
   "source": []
  },
  {
   "cell_type": "markdown",
   "id": "7685fb6e",
   "metadata": {},
   "source": [
    "### QUEEN"
   ]
  },
  {
   "cell_type": "code",
   "execution_count": null,
   "id": "581e7b28",
   "metadata": {},
   "outputs": [],
   "source": []
  },
  {
   "cell_type": "markdown",
   "id": "6e0d2de5",
   "metadata": {},
   "source": [
    "### KNN"
   ]
  },
  {
   "cell_type": "code",
   "execution_count": null,
   "id": "06ff8006",
   "metadata": {},
   "outputs": [],
   "source": []
  },
  {
   "cell_type": "markdown",
   "id": "5771bba4",
   "metadata": {},
   "source": [
    "## Mapas coropléticos"
   ]
  },
  {
   "cell_type": "code",
   "execution_count": null,
   "id": "6efb8110",
   "metadata": {},
   "outputs": [],
   "source": []
  },
  {
   "cell_type": "markdown",
   "id": "84fc4922",
   "metadata": {},
   "source": [
    "### Comparando esquemas de classificação"
   ]
  },
  {
   "cell_type": "code",
   "execution_count": null,
   "id": "7da78a69",
   "metadata": {},
   "outputs": [],
   "source": []
  },
  {
   "cell_type": "markdown",
   "id": "77973e5d",
   "metadata": {},
   "source": [
    "## Autocorrelação Espacial Global"
   ]
  },
  {
   "cell_type": "code",
   "execution_count": null,
   "id": "77a17e90",
   "metadata": {},
   "outputs": [],
   "source": []
  },
  {
   "cell_type": "markdown",
   "id": "28423bfa",
   "metadata": {},
   "source": [
    "## Autocorrelação Espacial Local"
   ]
  },
  {
   "cell_type": "code",
   "execution_count": null,
   "id": "d0d9441b",
   "metadata": {},
   "outputs": [],
   "source": []
  },
  {
   "cell_type": "markdown",
   "id": "980631c4",
   "metadata": {},
   "source": [
    "# Agradecimentos"
   ]
  },
  {
   "cell_type": "markdown",
   "id": "40a60e86",
   "metadata": {},
   "source": [
    "---\n",
    "\n",
    "![](github/agradecimentos.svg)\n",
    "\n",
    "---"
   ]
  }
 ],
 "metadata": {
  "kernelspec": {
   "display_name": "Python 3 (ipykernel)",
   "language": "python",
   "name": "python3"
  },
  "language_info": {
   "codemirror_mode": {
    "name": "ipython",
    "version": 3
   },
   "file_extension": ".py",
   "mimetype": "text/x-python",
   "name": "python",
   "nbconvert_exporter": "python",
   "pygments_lexer": "ipython3",
   "version": "3.9.13"
  }
 },
 "nbformat": 4,
 "nbformat_minor": 5
}
